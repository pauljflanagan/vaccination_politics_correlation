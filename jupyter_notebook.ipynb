{
 "cells": [
  {
   "cell_type": "markdown",
   "source": "### What libraries can we import that we will need for later usage?",
   "metadata": {
    "tags": [],
    "cell_id": "00001-3a35643e-0b59-42f7-b472-8e3c6ffe248f",
    "is_collapsed": false,
    "deepnote_cell_type": "text-cell-h3"
   }
  },
  {
   "cell_type": "code",
   "metadata": {
    "tags": [],
    "cell_id": "00000-7559deb0-b5d3-4cf1-8b94-92a0abdff628",
    "deepnote_to_be_reexecuted": false,
    "source_hash": "c037b43c",
    "execution_start": 1623528406236,
    "execution_millis": 2,
    "deepnote_cell_type": "code"
   },
   "source": "#\nimport pandas as pd\nfrom scipy.optimize import curve_fit\nfrom matplotlib import pyplot as plt\nimport numpy as np\nimport seaborn as sns\nimport scipy.stats as stats\n#",
   "execution_count": null,
   "outputs": []
  },
  {
   "cell_type": "markdown",
   "source": "Here a series of libraries were imported to DeepNote notebook. Though the DeepNote services may already have these services imported already, not only does doing so follow best practices, but it allows us to rename these libraries to something more familiar and easier to use.",
   "metadata": {
    "tags": [],
    "cell_id": "00002-95b12db5-e5e6-4cb9-97e2-0b9d3e500f39",
    "is_collapsed": false,
    "deepnote_cell_type": "text-cell-p"
   }
  },
  {
   "cell_type": "markdown",
   "source": "### What datasets are we going to need to analyze this issue?",
   "metadata": {
    "tags": [],
    "cell_id": "00003-6612bac2-1235-4b24-9141-5add606761cb",
    "is_collapsed": false,
    "deepnote_cell_type": "text-cell-h3"
   }
  },
  {
   "cell_type": "code",
   "metadata": {
    "tags": [],
    "cell_id": "00001-542ce82f-a92f-429a-ba58-d76a02fe99f9",
    "deepnote_to_be_reexecuted": false,
    "source_hash": "68beb4f8",
    "execution_start": 1623528406244,
    "execution_millis": 20,
    "deepnote_cell_type": "code"
   },
   "source": "electionData = pd.read_csv('election-data.csv')\nstateName = pd.read_csv('state-abbreviation.csv')\nusVacc = pd.read_csv('us_state_vaccinations.csv')",
   "execution_count": null,
   "outputs": []
  },
  {
   "cell_type": "markdown",
   "source": "In analyzing the possible connection of political affiliation and vaccination status, three primary datasets, all CSV files, will be needed. The first file is a record of election data from the 2016 presidential election, categorized by state, sourced from NPR. The second file simply connects each state name with its codified two-letter abbreviation. The last file is a CSV file sourced from GitHub that has accumulated the daily vaccination statistics that each state has published. All three of these files are converted into DataFrames for later usage.",
   "metadata": {
    "tags": [],
    "cell_id": "00006-599da9f0-76d2-4d39-95e0-4edf70ebb03b",
    "is_collapsed": false,
    "deepnote_cell_type": "text-cell-p"
   }
  },
  {
   "cell_type": "markdown",
   "source": "### How do we know that this data is usable?",
   "metadata": {
    "tags": [],
    "cell_id": "00006-28181410-8f1c-4143-9b88-c3dd271cec7d",
    "is_collapsed": false,
    "deepnote_cell_type": "text-cell-h3"
   }
  },
  {
   "cell_type": "code",
   "metadata": {
    "tags": [],
    "cell_id": "00002-f29f3c6e-387e-4730-b563-4d6ad2f85aeb",
    "deepnote_to_be_reexecuted": false,
    "source_hash": "948fcf50",
    "execution_start": 1623528406282,
    "execution_millis": 5,
    "deepnote_cell_type": "code"
   },
   "source": "print(electionData.head(1))\nprint(stateName.head(1))\nprint(usVacc.head(1))",
   "execution_count": null,
   "outputs": [
    {
     "name": "stdout",
     "text": "  State  Dems  Reps\n0    AK    35    63\n  US STATE ABBREVIATION\n0  Alabama           AL\n         date location  total_vaccinations  total_distributed  \\\n0  2021-01-12  Alabama             78134.0           377025.0   \n\n   people_vaccinated  people_fully_vaccinated_per_hundred  \\\n0            70861.0                                 0.15   \n\n   total_vaccinations_per_hundred  people_fully_vaccinated  \\\n0                            1.59                   7270.0   \n\n   people_vaccinated_per_hundred  distributed_per_hundred  \\\n0                           1.45                     7.69   \n\n   daily_vaccinations_raw  daily_vaccinations  daily_vaccinations_per_million  \\\n0                     NaN                 NaN                             NaN   \n\n   share_doses_used  \n0             0.207  \n",
     "output_type": "stream"
    }
   ]
  },
  {
   "cell_type": "markdown",
   "source": "The .head() Pandas function is used here to confirm that the data is usable and there were no issues with reading in the data from the CSV files.",
   "metadata": {
    "tags": [],
    "cell_id": "00008-4d9aa808-5f39-41ad-a16e-5d85bd54d545",
    "is_collapsed": false,
    "deepnote_cell_type": "text-cell-p"
   }
  },
  {
   "cell_type": "markdown",
   "source": "### How do we extract a specific vaccination metric from one state?",
   "metadata": {
    "tags": [],
    "cell_id": "00009-f84122aa-c8a2-4034-a6b1-bf8665d29296",
    "is_collapsed": false,
    "deepnote_cell_type": "text-cell-h3"
   }
  },
  {
   "cell_type": "code",
   "metadata": {
    "tags": [],
    "cell_id": "00003-7814039d-fab7-49a7-a224-6d86d9ee4317",
    "deepnote_to_be_reexecuted": false,
    "source_hash": "4f66c09c",
    "execution_start": 1626964054431,
    "execution_millis": 15,
    "deepnote_cell_type": "code"
   },
   "source": "def curve_plot(columnName, state):\n    state_filter = usVacc[usVacc['location'] == state]\n    state_filter.set_index('date')\n    col_data = state_filter[columnName]\n    # reset index\n    col_data = col_data.reset_index(drop=True)\n    col_data.dropna()\n    return col_data",
   "outputs": [],
   "execution_count": null
  },
  {
   "cell_type": "markdown",
   "source": "The curve_plot function was created to take the usVacc DataFrame, which contains all the data from the vaccination CSV file, and filter out data based upon a given state name input. From there, it creates a Pandas Series based upon the given name to select from the usVacc DataFrame. After resetting the index and dropping null values, it returns the series.",
   "metadata": {
    "tags": [],
    "cell_id": "00011-13feb92d-afb9-4fec-b3c1-d952e3179323",
    "is_collapsed": false,
    "deepnote_cell_type": "text-cell-p"
   }
  },
  {
   "cell_type": "markdown",
   "source": "### How do we know that curve_plot is usable?",
   "metadata": {
    "tags": [],
    "cell_id": "00012-800eaa9c-649f-42d3-a751-4989074c34fe",
    "is_collapsed": false,
    "deepnote_cell_type": "text-cell-h3"
   }
  },
  {
   "cell_type": "code",
   "metadata": {
    "tags": [],
    "cell_id": "00004-8d7cb398-5c7d-422d-b933-2143b1f3274c",
    "deepnote_to_be_reexecuted": false,
    "source_hash": "1d5257c2",
    "execution_start": 1623528406330,
    "execution_millis": 215,
    "deepnote_cell_type": "code"
   },
   "source": "# plot one such series as example\ncolumn = 'people_vaccinated'\nstate = 'Alabama'\ncurveSeries = curve_plot(column, state)\n\n# Print out curveSeries to ensure that null values were dropped\ncurveSeries = curveSeries.dropna()\nprint(curveSeries)\n\nplt.scatter(curveSeries.index, curveSeries)\nplt.title('Vaccinations over Time (in days)')\nplt.ylabel('Vaccinations')\nplt.xlabel('Days')\nplt.show()\n",
   "execution_count": null,
   "outputs": [
    {
     "name": "stdout",
     "text": "0        70861.0\n1        74792.0\n2        80480.0\n3        86956.0\n7       114319.0\n         ...    \n123    1697289.0\n124    1699751.0\n125    1699915.0\n126    1709333.0\n127    1709761.0\nName: people_vaccinated, Length: 124, dtype: float64\n",
     "output_type": "stream"
    },
    {
     "data": {
      "text/plain": "<Figure size 432x288 with 1 Axes>",
      "image/png": "[encoded data removed]"
     },
     "metadata": {
      "needs_background": "light",
      "image/png": {
       "width": 392,
       "height": 278
      }
     },
     "output_type": "display_data"
    }
   ]
  },
  {
   "cell_type": "markdown",
   "source": "The curve_plot function was tested by using Alabama's total vaccinated population as input variables. After using the scatter() method of pyplot and printing out the series, it can be confirmed that the curve_plot function works.",
   "metadata": {
    "tags": [],
    "cell_id": "00013-49fa9a3d-acf9-47d3-b4ac-624b5862d0b7",
    "is_collapsed": false,
    "deepnote_cell_type": "text-cell-p"
   }
  },
  {
   "cell_type": "markdown",
   "source": "### Does the data fit a linear regression model?",
   "metadata": {
    "tags": [],
    "cell_id": "00015-4857d3d5-8266-4503-81f7-8910d7d719aa",
    "is_collapsed": false,
    "deepnote_cell_type": "text-cell-h3"
   }
  },
  {
   "cell_type": "code",
   "metadata": {
    "tags": [],
    "cell_id": "00005-82ad6eea-a4ec-4413-a305-a6ca2535ac3d",
    "deepnote_to_be_reexecuted": false,
    "source_hash": "215103ea",
    "execution_start": 1623528406598,
    "execution_millis": 5,
    "deepnote_cell_type": "code"
   },
   "source": "def curve_model(x, β0, β1, β2):\n    return β0 / (1 + np.exp(β1*(-x + β2)))\n\ndef fit_data(curveInput):\n    curveInput = curveInput.dropna()\n    my_guessed_betas = [curveInput.max(), 1, (0.5*len(curveInput.index))]\n    try:\n        found_betas, covariance = curve_fit(curve_model,\n            xdata=curveInput.index.values, ydata=curveInput.values,\n            p0=my_guessed_betas)\n        β0, β1, β2 = found_betas\n    except TypeError:\n        β0, β1, β2 = [np.nan, np.nan, np.nan]\n    fit_model = lambda x: curve_model(x, β0, β1, β2)\n    \n    # If you want to ensure that the curve_fit model works\n    \n    # plt.plot(curveInput.index, curveInput)\n    # plt.plot(curveInput.index, fit_model(curveInput.index))\n    # plt.show()\n\n    return β0, β1, β2\n\nfit_data(curveSeries)",
   "execution_count": null,
   "outputs": [
    {
     "output_type": "execute_result",
     "execution_count": 182,
     "data": {
      "text/plain": "(1887331.3598205394, 0.03828467207246645, 64.88136758383932)"
     },
     "metadata": {}
    }
   ]
  },
  {
   "cell_type": "markdown",
   "source": "Two functions, curve_model and fit_data, were created. The latter was created to take in a Pandas series like the one created in curve_plot and return beta values based upon guesses it makes based upon the input data set. It uses a lambda function to create a function based upon the calculated betas, and the calculated betas are returned. For proof of functionality, code was dedicated to plotting graphing the function was included, but for efficiency purposes, it was commented out after functionality was proved in debugging. ",
   "metadata": {
    "tags": [],
    "cell_id": "00017-ba1aac96-fcbd-494d-9241-55030c925e43",
    "is_collapsed": false,
    "deepnote_cell_type": "text-cell-p"
   }
  },
  {
   "cell_type": "markdown",
   "source": "### How does this data correlate over each state?",
   "metadata": {
    "tags": [],
    "cell_id": "00018-e7b8ea22-b30c-49d8-b4f8-31c63f53d808",
    "is_collapsed": false,
    "deepnote_cell_type": "text-cell-h3"
   }
  },
  {
   "cell_type": "code",
   "metadata": {
    "tags": [],
    "cell_id": "00007-7cb00272-3f11-4a68-b0a3-cddbce64799e",
    "deepnote_to_be_reexecuted": false,
    "source_hash": "ed8a674c",
    "execution_start": 1623528406599,
    "execution_millis": 162,
    "deepnote_cell_type": "code"
   },
   "source": "d = {'State':[], 'LTMaxVax':[], 'RateofVax':[], 'MaxDelta':[]}\n\nfor i in stateName['US STATE']:\n    state_data = curve_plot('people_vaccinated_per_hundred', i)\n    if len(state_data) > 0:\n        state_betas = fit_data(state_data)\n        β0, β1, β2 = state_betas\n        d['State'].append(i)\n        d['LTMaxVax'].append(β0)\n        d['RateofVax'].append(β1)\n        d['MaxDelta'].append(β2)    ",
   "execution_count": null,
   "outputs": []
  },
  {
   "cell_type": "markdown",
   "source": "In order to build a dataset based upon data from each state, a dictionary was created with columns to store values for the long-term maximum vaccinated population, the rate of vaccination for each day, and the time of maximum increase, as was the case when the fit_data function was tested with Alabama's data. Then, the state name column of stateName is iterated over the  'people_vaccinated_per_hundred' column of the usVacc DataFrame in order to store the beta values of each state in the dictionary just created.",
   "metadata": {
    "tags": [],
    "cell_id": "00020-1303fa1e-643b-4509-a63b-58b62c302dc7",
    "is_collapsed": false,
    "deepnote_cell_type": "text-cell-p"
   }
  },
  {
   "cell_type": "markdown",
   "source": "### What correlations exist within the data?",
   "metadata": {
    "tags": [],
    "cell_id": "00021-e02158f3-0a3f-4fed-ad8f-b481fa07518c",
    "is_collapsed": false,
    "deepnote_cell_type": "text-cell-h3"
   }
  },
  {
   "cell_type": "code",
   "metadata": {
    "tags": [],
    "cell_id": "00007-08cdd65d-ce19-4d2f-9fbf-9b24254b5f95",
    "deepnote_to_be_reexecuted": false,
    "source_hash": "2c8dcf35",
    "execution_start": 1623528406821,
    "execution_millis": 407,
    "deepnote_cell_type": "code"
   },
   "source": "df = pd.DataFrame(data=d)\ndf = df.merge(stateName, how='inner', left_on='State', right_on='US STATE')\ndf = df.merge(electionData, how='inner', left_on='ABBREVIATION', right_on='State')\n\nnumeric_columns_only = df.drop(['State_x', 'State_y', 'US STATE', 'ABBREVIATION'], axis=1)\ncorrelation_coefficients = np.corrcoef(numeric_columns_only, rowvar=False)\nsns.heatmap(correlation_coefficients, annot=True)\nplt.xticks(np.arange(5)+0.5, numeric_columns_only.columns)\nplt.yticks(np.arange(5)+0.5, numeric_columns_only.columns, rotation=0)\nplt.show()",
   "execution_count": null,
   "outputs": [
    {
     "data": {
      "text/plain": "<Figure size 432x288 with 2 Axes>",
      "image/png": "[encoded data removed]"
     },
     "metadata": {
      "needs_background": "light",
      "image/png": {
       "width": 404,
       "height": 252
      }
     },
     "output_type": "display_data"
    }
   ]
  },
  {
   "cell_type": "markdown",
   "source": "After the dictionary is created based upon each state's beta values, a DataFrame is created based upon the dictionary, and the DataFrame is merged with the numeric values from each of the three previously created DataFrames, being the voting statistics from electionData and the beta values previously input. Lastly, a correlation heat map is created using the heatmap function from the Seaborn library and the heat map is plotted for analysis.",
   "metadata": {
    "tags": [],
    "cell_id": "00023-01bf5b55-818d-40e5-bdc7-aed8fd5e99d7",
    "is_collapsed": false,
    "deepnote_cell_type": "text-cell-p"
   }
  },
  {
   "cell_type": "markdown",
   "source": "### Are there any significant findings?",
   "metadata": {
    "tags": [],
    "cell_id": "00024-4ed83aba-1374-4be9-81a7-a7218636505b",
    "is_collapsed": false,
    "deepnote_cell_type": "text-cell-h3"
   }
  },
  {
   "cell_type": "code",
   "metadata": {
    "tags": [],
    "cell_id": "00024-12c122b2-d9b9-4d7d-b1f9-ed432e36e220",
    "deepnote_to_be_reexecuted": false,
    "source_hash": "4e4eff17",
    "execution_start": 1623528407231,
    "execution_millis": 8,
    "deepnote_cell_type": "code"
   },
   "source": "α = 0.05\n\nt_statistics, p_value = stats.ttest_ind(df['Reps'], df['Dems'])\nreject_H0 = p_value < α\nprint(α, p_value, reject_H0)\n",
   "execution_count": null,
   "outputs": [
    {
     "name": "stdout",
     "text": "0.05 0.038019344333197404 True\n",
     "output_type": "stream"
    }
   ]
  },
  {
   "cell_type": "markdown",
   "source": "Based upon the data from the correlation heat map, a hypothesis test was constructed with a two-population sample to determine whether or not the difference in vaccination rates based upon political affiliation was statistically significant. Using a stored 5% confidence interval, the null hypothesis could be rejected as the calculated p-value was less than the confidence interval. ",
   "metadata": {
    "tags": [],
    "cell_id": "00026-20af55c0-8f17-44c7-8c95-9545407af494",
    "is_collapsed": false,
    "deepnote_cell_type": "text-cell-p"
   }
  },
  {
   "cell_type": "markdown",
   "source": "<a style='text-decoration:none;line-height:16px;display:flex;color:#5B5B62;padding:10px;justify-content:end;' href='https://deepnote.com?utm_source=created-in-deepnote-cell&projectId=677acccc-9fce-4b99-8d03-8f26079a07da' target=\"_blank\">\n<img alt='Created in deepnote.com' style='display:inline;max-height:16px;margin:0px;margin-right:7.5px;' src='data:image/svg+xml;base64,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' > </img>\nCreated in <span style='font-weight:600;margin-left:4px;'>Deepnote</span></a>",
   "metadata": {
    "tags": [],
    "created_in_deepnote_cell": true,
    "deepnote_cell_type": "markdown"
   }
  }
 ],
 "nbformat": 4,
 "nbformat_minor": 2,
 "metadata": {
  "orig_nbformat": 2,
  "deepnote": {
   "is_reactive": true
  },
  "deepnote_notebook_id": "3cf08bd8-4702-4edf-bb95-6406b02996e8",
  "deepnote_execution_queue": []
 }
}